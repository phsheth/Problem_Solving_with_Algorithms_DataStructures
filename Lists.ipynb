{
 "cells": [
  {
   "cell_type": "code",
   "execution_count": 1,
   "metadata": {},
   "outputs": [],
   "source": [
    "from timeit import Timer"
   ]
  },
  {
   "cell_type": "code",
   "execution_count": 2,
   "metadata": {},
   "outputs": [],
   "source": [
    "def test1():\n",
    "    l = []\n",
    "    for i in range(1000):\n",
    "        l = l + [i]\n",
    "\n",
    "def test2():\n",
    "    l = []\n",
    "    for i in range(1000):\n",
    "        l.append(i)\n",
    "\n",
    "def test3():\n",
    "    l = [i for i in range(1000)]\n",
    "\n",
    "def test4():\n",
    "    l = list(range(1000))"
   ]
  },
  {
   "cell_type": "code",
   "execution_count": 3,
   "metadata": {},
   "outputs": [
    {
     "name": "stdout",
     "output_type": "stream",
     "text": [
      "concat  1.7274614520120428 milliseconds\n",
      "append  0.10055734266093119 milliseconds\n",
      "comprehension  0.04011967136559802 milliseconds\n",
      "list range  0.016635014572069062 milliseconds\n"
     ]
    }
   ],
   "source": [
    "t1 = Timer(\"test1()\", \"from __main__ import test1\")\n",
    "print(\"concat \", t1.timeit(number = 1000), \"milliseconds\")\n",
    "t2 = Timer(\"test2()\",  \"from __main__ import test2\")\n",
    "print(\"append \", t2.timeit(number = 1000), \"milliseconds\")\n",
    "t3 = Timer(\"test3()\",  \"from __main__ import test3\")\n",
    "print(\"comprehension \", t3.timeit(number = 1000), \"milliseconds\")\n",
    "t4 = Timer(\"test4()\",  \"from __main__ import test4\")\n",
    "print(\"list range \", t4.timeit(number = 1000), \"milliseconds\")"
   ]
  },
  {
   "cell_type": "code",
   "execution_count": null,
   "metadata": {},
   "outputs": [],
   "source": []
  }
 ],
 "metadata": {
  "kernelspec": {
   "display_name": "Python 3",
   "language": "python",
   "name": "python3"
  },
  "language_info": {
   "codemirror_mode": {
    "name": "ipython",
    "version": 3
   },
   "file_extension": ".py",
   "mimetype": "text/x-python",
   "name": "python",
   "nbconvert_exporter": "python",
   "pygments_lexer": "ipython3",
   "version": "3.6.2"
  }
 },
 "nbformat": 4,
 "nbformat_minor": 2
}
