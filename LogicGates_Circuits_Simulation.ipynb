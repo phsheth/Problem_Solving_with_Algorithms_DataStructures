{
 "cells": [
  {
   "cell_type": "code",
   "execution_count": 1,
   "metadata": {},
   "outputs": [],
   "source": [
    "class LogicGate():\n",
    "    \n",
    "    def __init__(self,n):\n",
    "        self.label = n\n",
    "        self.output = None\n",
    "    def getLabel(self):\n",
    "        return self.label\n",
    "    def getOutput(self):\n",
    "        self.output = self.performGateLogic()\n",
    "        return self.output"
   ]
  },
  {
   "cell_type": "code",
   "execution_count": 2,
   "metadata": {},
   "outputs": [],
   "source": [
    "class BinaryGate(LogicGate):\n",
    "    \n",
    "    def __init__(self,n):\n",
    "        LogicGate.__init__(self,n)\n",
    "        \n",
    "        self.pinA = None\n",
    "        self.pinB = None\n",
    "        \n",
    "    def getPinA(self):\n",
    "        if self.pinA == None:\n",
    "            return int(input(\"Enter Pin A input for gate \"+ self.getLabel()+\"-->\"))\n",
    "        else:\n",
    "            return self.pinA.getFrom().getOutput()\n",
    "\n",
    "    def getPinB(self):\n",
    "        if self.pinB == None:\n",
    "            return int(input(\"Enter Pin B input for gate \"+ self.getLabel()+\"-->\"))\n",
    "        else:\n",
    "            return self.pinB.getFrom().getOutput()\n",
    "    \n",
    "    def setNextPin(self,source):\n",
    "        if self.pinA == None:\n",
    "            self.pinA = source\n",
    "        else:\n",
    "            if self.pinB == None:\n",
    "                self.pinB = source\n",
    "            else:\n",
    "                raise RuntimeError(\"Error - NO EMPTY PINS\")"
   ]
  },
  {
   "cell_type": "code",
   "execution_count": 3,
   "metadata": {},
   "outputs": [],
   "source": [
    "class UnaryGate(LogicGate):\n",
    "    \n",
    "    def __init__(self,n):\n",
    "        LogicGate.__init__(self,n)\n",
    "        \n",
    "        self.pin = None\n",
    "\n",
    "    def getPin(self):\n",
    "        if self.pin == None:\n",
    "            return int(input(\"Enter Pin input for gate \"+ self.getLabel()+\"-->\"))\n",
    "        else:\n",
    "            return self.pin.getFrom().getOutput()\n",
    "    \n",
    "\n",
    "    def setNextPin(self,source):\n",
    "        if self.pin == None:\n",
    "            self.pin = source\n",
    "        else:\n",
    "            raise RuntimeError(\"Error - NO EMPTY PINS\")"
   ]
  },
  {
   "cell_type": "code",
   "execution_count": 4,
   "metadata": {},
   "outputs": [],
   "source": [
    "class Connector:\n",
    "    \n",
    "    def __init__(self, fgate, tgate):\n",
    "        self.fromgate = fgate\n",
    "        self.togate = tgate\n",
    "        \n",
    "        tgate.setNextPin(self)\n",
    "        \n",
    "    def getFrom(self):\n",
    "        return self.fromgate\n",
    "    \n",
    "    def getTo(self):\n",
    "        return self.togate\n",
    "    "
   ]
  },
  {
   "cell_type": "code",
   "execution_count": 5,
   "metadata": {},
   "outputs": [],
   "source": [
    "class AndGate(BinaryGate):\n",
    "    \n",
    "    def __init__(self,n):\n",
    "        super().__init__(n)\n",
    "        \n",
    "    def performGateLogic(self):\n",
    "        \n",
    "        a = self.getPinA()\n",
    "        b = self.getPinB()\n",
    "        \n",
    "        if a==1 and b==1:\n",
    "            return 1\n",
    "        else:\n",
    "            return 0\n"
   ]
  },
  {
   "cell_type": "code",
   "execution_count": 6,
   "metadata": {},
   "outputs": [],
   "source": [
    "class NandGate(AndGate):\n",
    "         \n",
    "    def performGateLogic(self):\n",
    "        if super().performGateLogic() == 1:\n",
    "            return 0\n",
    "        else:\n",
    "            return 1\n"
   ]
  },
  {
   "cell_type": "code",
   "execution_count": 7,
   "metadata": {},
   "outputs": [],
   "source": [
    "class OrGate(BinaryGate):\n",
    "    \n",
    "    def __init__(self,n):\n",
    "        super().__init__(n)\n",
    "        \n",
    "    def performGateLogic(self):\n",
    "        \n",
    "        a = self.getPinA()\n",
    "        b = self.getPinB()\n",
    "        \n",
    "        if a==1 or b==1:\n",
    "            return 1\n",
    "        else:\n",
    "            return 0\n"
   ]
  },
  {
   "cell_type": "code",
   "execution_count": 8,
   "metadata": {},
   "outputs": [],
   "source": [
    "class NorGate(OrGate):\n",
    "    def performGateLogic(self):\n",
    "        if super().performGateLogic() == 1:\n",
    "            return 0\n",
    "        else:\n",
    "            return 1"
   ]
  },
  {
   "cell_type": "code",
   "execution_count": 9,
   "metadata": {},
   "outputs": [],
   "source": [
    "class NotGate(UnaryGate):\n",
    "    \n",
    "    def __init__(self,n):\n",
    "        UnaryGate.__init__(self,n)\n",
    "        \n",
    "    def performGateLogic(self):\n",
    "        \n",
    "        \n",
    "        \n",
    "        if self.getPin():\n",
    "            return 0\n",
    "        else:\n",
    "            return 1\n"
   ]
  },
  {
   "cell_type": "code",
   "execution_count": 10,
   "metadata": {},
   "outputs": [
    {
     "name": "stdout",
     "output_type": "stream",
     "text": [
      "1\n"
     ]
    }
   ],
   "source": [
    "def main():\n",
    "    g1 = AndGate(\"G1\")\n",
    "    g2 = AndGate(\"G2\")\n",
    "    g3 = OrGate(\"G3\")\n",
    "    g4 = NotGate(\"G4\")\n",
    "    g5 = NorGate(\"G5\")\n",
    "    g6 = NandGate(\"G6\")\n",
    "    c1 = Connector(g1,g3)\n",
    "    c2 = Connector(g2,g3)\n",
    "    c3 = Connector(g3,g4)\n",
    "    c4 = Connector(g4,g5)\n",
    "    c5 = Connector(g5,g6)\n",
    "    print(g6.getOutput())\n",
    "\n",
    "main()\n"
   ]
  },
  {
   "cell_type": "code",
   "execution_count": null,
   "metadata": {},
   "outputs": [],
   "source": []
  }
 ],
 "metadata": {
  "kernelspec": {
   "display_name": "Python 3",
   "language": "python",
   "name": "python3"
  },
  "language_info": {
   "codemirror_mode": {
    "name": "ipython",
    "version": 3
   },
   "file_extension": ".py",
   "mimetype": "text/x-python",
   "name": "python",
   "nbconvert_exporter": "python",
   "pygments_lexer": "ipython3",
   "version": "3.6.2"
  }
 },
 "nbformat": 4,
 "nbformat_minor": 2
}
